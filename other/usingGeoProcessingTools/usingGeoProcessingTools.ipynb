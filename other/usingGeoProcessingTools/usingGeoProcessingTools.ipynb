{
  "nbformat": 4,
  "nbformat_minor": 0,
  "metadata": {
    "colab": {
      "name": "usingGeoProcessingTools.ipynb",
      "provenance": []
    },
    "kernelspec": {
      "name": "python3",
      "display_name": "Python 3"
    },
    "widgets": {
      "application/vnd.jupyter.widget-state+json": {
        "6aaa7b2ab8084ddabeea0be7552601e0": {
          "model_module": "arcgis-map-ipywidget",
          "model_name": "ArcGISMapIPyWidgetModel",
          "state": {
            "_view_name": "ArcGISMapIPyWidgetView",
            "_webmap": {},
            "_trigger_new_jlab_window_with_args": {},
            "_webscene": {},
            "_scale": -1,
            "_uuid": "795d1a4a-efb5-473d-9a7c-1e69419eb9af",
            "_image_overlays_to_remove": [],
            "_view_module": "arcgis-map-ipywidget",
            "_extent": {
              "xmin": 72.35917000000005,
              "ymin": -7.27789999999994,
              "ymax": -7.257899999999941,
              "xmax": 72.37917000000006
            },
            "_model_module_version": "1.8.2",
            "_readonly_webmap_from_js": {},
            "_gallery_basemaps": {
              "default": {
                "baseMapLayers": [
                  {
                    "url": "https://services.arcgisonline.com/ArcGIS/rest/services/World_Topo_Map/MapServer",
                    "resourceInfo": {
                      "layers": [
                        {
                          "name": "Citations",
                          "maxScale": 0,
                          "defaultVisibility": false,
                          "parentLayerId": -1,
                          "id": 0,
                          "minScale": 0,
                          "subLayerIds": null
                        }
                      ],
                      "tables": [],
                      "exportTilesAllowed": false,
                      "supportedImageFormatTypes": "PNG32,PNG24,PNG,JPG,DIB,TIFF,EMF,PS,PDF,GIF,SVG,SVGZ,BMP",
                      "supportsDynamicLayers": false,
                      "initialExtent": {
                        "xmin": -28848255.049479112,
                        "ymin": -2077452.082122866,
                        "ymax": 16430757.376790084,
                        "xmax": 28848255.049479112,
                        "spatialReference": {
                          "wkid": 102100,
                          "latestWkid": 3857
                        }
                      },
                      "maxImageHeight": 4096,
                      "maxScale": 70.5310735,
                      "capabilities": "Map,Tilemap,Query,Data",
                      "spatialReference": {
                        "wkid": 102100,
                        "latestWkid": 3857
                      },
                      "mapName": "Layers",
                      "currentVersion": 10.3,
                      "maxRecordCount": 100,
                      "maxImageWidth": 4096,
                      "units": "esriMeters",
                      "fullExtent": {
                        "xmin": -20037507.067161843,
                        "ymin": -19971868.880408604,
                        "ymax": 19971868.88040863,
                        "xmax": 20037507.067161843,
                        "spatialReference": {
                          "wkid": 102100,
                          "latestWkid": 3857
                        }
                      },
                      "singleFusedMapCache": true,
                      "supportedQueryFormats": "JSON, AMF",
                      "minScale": 591657527.591555,
                      "supportedExtensions": "KmlServer",
                      "tileInfo": {
                        "origin": {
                          "y": 20037508.342787,
                          "x": -20037508.342787
                        },
                        "rows": 256,
                        "format": "JPEG",
                        "cols": 256,
                        "compressionQuality": 90,
                        "lods": [
                          {
                            "scale": 591657527.591555,
                            "resolution": 156543.03392800014,
                            "level": 0
                          },
                          {
                            "scale": 295828763.795777,
                            "resolution": 78271.51696399994,
                            "level": 1
                          },
                          {
                            "scale": 147914381.897889,
                            "resolution": 39135.75848200009,
                            "level": 2
                          },
                          {
                            "scale": 73957190.948944,
                            "resolution": 19567.87924099992,
                            "level": 3
                          },
                          {
                            "scale": 36978595.474472,
                            "resolution": 9783.93962049996,
                            "level": 4
                          },
                          {
                            "scale": 18489297.737236,
                            "resolution": 4891.96981024998,
                            "level": 5
                          },
                          {
                            "scale": 9244648.868618,
                            "resolution": 2445.98490512499,
                            "level": 6
                          },
                          {
                            "scale": 4622324.434309,
                            "resolution": 1222.992452562495,
                            "level": 7
                          },
                          {
                            "scale": 2311162.217155,
                            "resolution": 611.4962262813797,
                            "level": 8
                          },
                          {
                            "scale": 1155581.108577,
                            "resolution": 305.74811314055756,
                            "level": 9
                          },
                          {
                            "scale": 577790.554289,
                            "resolution": 152.87405657041106,
                            "level": 10
                          },
                          {
                            "scale": 288895.277144,
                            "resolution": 76.43702828507324,
                            "level": 11
                          },
                          {
                            "scale": 144447.638572,
                            "resolution": 38.21851414253662,
                            "level": 12
                          },
                          {
                            "scale": 72223.819286,
                            "resolution": 19.10925707126831,
                            "level": 13
                          },
                          {
                            "scale": 36111.909643,
                            "resolution": 9.554628535634155,
                            "level": 14
                          },
                          {
                            "scale": 18055.954822,
                            "resolution": 4.77731426794937,
                            "level": 15
                          },
                          {
                            "scale": 9027.977411,
                            "resolution": 2.388657133974685,
                            "level": 16
                          },
                          {
                            "scale": 4513.988705,
                            "resolution": 1.1943285668550503,
                            "level": 17
                          },
                          {
                            "scale": 2256.994353,
                            "resolution": 0.5971642835598172,
                            "level": 18
                          },
                          {
                            "scale": 1128.497176,
                            "resolution": 0.29858214164761665,
                            "level": 19
                          },
                          {
                            "scale": 564.248588,
                            "resolution": 0.14929107082380833,
                            "level": 20
                          },
                          {
                            "scale": 282.124294,
                            "resolution": 0.07464553541190416,
                            "level": 21
                          },
                          {
                            "scale": 141.062147,
                            "resolution": 0.03732276770595208,
                            "level": 22
                          },
                          {
                            "scale": 70.5310735,
                            "resolution": 0.01866138385297604,
                            "level": 23
                          }
                        ],
                        "spatialReference": {
                          "wkid": 102100,
                          "latestWkid": 3857
                        },
                        "dpi": 96
                      }
                    },
                    "layerType": "ArcGISTiledMapServiceLayer"
                  }
                ],
                "title": "Topographic"
              }
            },
            "_center": {},
            "print_service_url": "",
            "tab_mode": "auto",
            "ready": false,
            "_trigger_print_js_debug_info": "",
            "_basemap": "default",
            "_readonly_heading": 0,
            "_model_module": "arcgis-map-ipywidget",
            "_overlay_this_image": {},
            "_snap_to_zoom": true,
            "_link_writeonly_tilt": 0,
            "_link_writeonly_rotation": 0,
            "layout": "IPY_MODEL_407dac3ceb5e4d81887b4665e43588b4",
            "_model_name": "ArcGISMapIPyWidgetModel",
            "_zoom": 6,
            "_view_module_version": "1.8.2",
            "jupyter_target": "",
            "_readonly_extent": {},
            "_portal_token": "",
            "_portal_sharing_rest_url": "https://www.arcgis.com/sharing/rest/",
            "_tilt": 0,
            "_username": "None",
            "_readonly_center": {},
            "_dom_classes": [],
            "_preview_screenshot_callback_resp": "",
            "_heading": 0,
            "_trigger_webscene_save_to_this_portal_id": "",
            "_readonly_zoom": -1,
            "_js_cdn_override": "",
            "_link_writeonly_extent": {},
            "_center_long_lat": [],
            "_overlay_these_images_on_widget_load": [],
            "_link_writeonly_heading": 0,
            "_add_this_graphic": {},
            "_readonly_scale": -1,
            "_view_count": null,
            "legend": false,
            "_draw_these_notype_layers_on_widget_load": [
              {
                "url": "http://services.arcgis.com/WQ9KVmV6xGGMnCiQ/arcgis/rest/services/MH370Search/FeatureServer/1",
                "type": "FeatureLayer",
                "options": {
                  "type": "FeatureLayer"
                },
                "_hashFromPython": "-9223363297615062833"
              },
              {
                "url": "http://services.arcgis.com/WQ9KVmV6xGGMnCiQ/arcgis/rest/services/MH370Search/FeatureServer/1",
                "type": "FeatureLayer",
                "options": {
                  "type": "FeatureLayer"
                },
                "_hashFromPython": "-9223363297615107861"
              },
              {
                "url": "http://services.arcgis.com/WQ9KVmV6xGGMnCiQ/arcgis/rest/services/MH370_Flight_Path/FeatureServer/0",
                "type": "FeatureLayer",
                "options": {
                  "renderer": {
                    "symbol": {
                      "style": "esriSMSSquare",
                      "angle": 0,
                      "outline": {
                        "color": [
                          255,
                          0,
                          0,
                          255
                        ],
                        "width": 1,
                        "style": "esriSLSSolid",
                        "type": "esriSLS"
                      },
                      "color": [
                        255,
                        0,
                        0,
                        255
                      ],
                      "yoffset": 0,
                      "type": "esriSMS",
                      "xoffset": 0,
                      "size": 11.25
                    },
                    "type": "simple"
                  }
                },
                "_hashFromPython": "-9223363297615102990"
              },
              {
                "url": "http://services.arcgis.com/WQ9KVmV6xGGMnCiQ/arcgis/rest/services/MH370_Flight_Path/FeatureServer/1",
                "type": "FeatureLayer",
                "options": {
                  "renderer": {
                    "symbol": {
                      "style": "esriSMSSquare",
                      "angle": 0,
                      "outline": {
                        "color": [
                          255,
                          0,
                          0,
                          255
                        ],
                        "width": 1,
                        "style": "esriSLSSolid",
                        "type": "esriSLS"
                      },
                      "color": [
                        255,
                        0,
                        0,
                        255
                      ],
                      "yoffset": 0,
                      "type": "esriSMS",
                      "xoffset": 0,
                      "size": 11.25
                    },
                    "type": "simple"
                  }
                },
                "_hashFromPython": "-9223363297615105420"
              },
              {
                "url": "http://services.arcgis.com/WQ9KVmV6xGGMnCiQ/arcgis/rest/services/MH370_Flight_Path/FeatureServer/2",
                "type": "FeatureLayer",
                "options": {
                  "renderer": {
                    "symbol": {
                      "style": "esriSMSSquare",
                      "angle": 0,
                      "outline": {
                        "color": [
                          255,
                          0,
                          0,
                          255
                        ],
                        "width": 1,
                        "style": "esriSLSSolid",
                        "type": "esriSLS"
                      },
                      "color": [
                        255,
                        0,
                        0,
                        255
                      ],
                      "yoffset": 0,
                      "type": "esriSMS",
                      "xoffset": 0,
                      "size": 11.25
                    },
                    "type": "simple"
                  }
                },
                "_hashFromPython": "-9223363297615105392"
              },
              {
                "url": "http://services.arcgis.com/WQ9KVmV6xGGMnCiQ/arcgis/rest/services/MH370_Flight_Path/FeatureServer/3",
                "type": "FeatureLayer",
                "options": {
                  "renderer": {
                    "symbol": {
                      "style": "esriSMSSquare",
                      "angle": 0,
                      "outline": {
                        "color": [
                          255,
                          0,
                          0,
                          255
                        ],
                        "width": 1,
                        "style": "esriSLSSolid",
                        "type": "esriSLS"
                      },
                      "color": [
                        255,
                        0,
                        0,
                        255
                      ],
                      "yoffset": 0,
                      "type": "esriSMS",
                      "xoffset": 0,
                      "size": 11.25
                    },
                    "type": "simple"
                  }
                },
                "_hashFromPython": "-9223363297615105413"
              },
              {
                "url": "http://services.arcgis.com/WQ9KVmV6xGGMnCiQ/arcgis/rest/services/MH370_Flight_Path/FeatureServer/4",
                "type": "FeatureLayer",
                "options": {
                  "renderer": {
                    "symbol": {
                      "style": "esriSMSSquare",
                      "angle": 0,
                      "outline": {
                        "color": [
                          255,
                          0,
                          0,
                          255
                        ],
                        "width": 1,
                        "style": "esriSLSSolid",
                        "type": "esriSLS"
                      },
                      "color": [
                        255,
                        0,
                        0,
                        255
                      ],
                      "yoffset": 0,
                      "type": "esriSMS",
                      "xoffset": 0,
                      "size": 11.25
                    },
                    "type": "simple"
                  }
                },
                "_hashFromPython": "8739239670455"
              },
              {
                "url": "http://services.arcgis.com/WQ9KVmV6xGGMnCiQ/arcgis/rest/services/MH370_Flight_Path/FeatureServer/5",
                "type": "FeatureLayer",
                "options": {
                  "renderer": {
                    "symbol": {
                      "style": "esriSMSSquare",
                      "angle": 0,
                      "outline": {
                        "color": [
                          255,
                          0,
                          0,
                          255
                        ],
                        "width": 1,
                        "style": "esriSLSSolid",
                        "type": "esriSLS"
                      },
                      "color": [
                        255,
                        0,
                        0,
                        255
                      ],
                      "yoffset": 0,
                      "type": "esriSMS",
                      "xoffset": 0,
                      "size": 11.25
                    },
                    "type": "simple"
                  }
                },
                "_hashFromPython": "-9223363297615105287"
              },
              {
                "url": "http://services.arcgis.com/WQ9KVmV6xGGMnCiQ/arcgis/rest/services/MH370_Flight_Path/FeatureServer/6",
                "type": "FeatureLayer",
                "options": {
                  "renderer": {
                    "symbol": {
                      "style": "esriSMSSquare",
                      "angle": 0,
                      "outline": {
                        "color": [
                          255,
                          0,
                          0,
                          255
                        ],
                        "width": 1,
                        "style": "esriSLSSolid",
                        "type": "esriSLS"
                      },
                      "color": [
                        255,
                        0,
                        0,
                        255
                      ],
                      "yoffset": 0,
                      "type": "esriSMS",
                      "xoffset": 0,
                      "size": 11.25
                    },
                    "type": "simple"
                  }
                },
                "_hashFromPython": "8739239670518"
              },
              {
                "url": "http://services.arcgis.com/WQ9KVmV6xGGMnCiQ/arcgis/rest/services/SatelliteLocation/FeatureServer/0",
                "type": "FeatureLayer",
                "options": {
                  "renderer": {
                    "symbol": {
                      "style": "esriSMSCircle",
                      "angle": 0,
                      "outline": {
                        "color": [
                          0,
                          0,
                          0,
                          255
                        ],
                        "width": 1
                      },
                      "color": [
                        133,
                        0,
                        11,
                        255
                      ],
                      "yoffset": 0,
                      "type": "esriSMS",
                      "xoffset": 0,
                      "size": 4
                    },
                    "type": "simple",
                    "description": "",
                    "label": ""
                  }
                },
                "_hashFromPython": "-9223363297615097533"
              },
              {
                "url": "http://services.arcgis.com/WQ9KVmV6xGGMnCiQ/arcgis/rest/services/MH370Search/FeatureServer/0",
                "type": "FeatureLayer",
                "options": {
                  "renderer": {
                    "symbol": {
                      "style": "esriSMSCircle",
                      "angle": 0,
                      "outline": {
                        "color": [
                          0,
                          0,
                          0,
                          255
                        ],
                        "width": 0.75,
                        "style": "esriSLSSolid",
                        "type": "esriSLS"
                      },
                      "color": [
                        255,
                        0,
                        0,
                        255
                      ],
                      "yoffset": 0,
                      "type": "esriSMS",
                      "xoffset": 0,
                      "size": 11.25
                    },
                    "type": "simple"
                  }
                },
                "_hashFromPython": "8739239679566"
              },
              {
                "url": "http://services.arcgis.com/WQ9KVmV6xGGMnCiQ/arcgis/rest/services/MH370Search/FeatureServer/1",
                "type": "FeatureLayer",
                "options": {
                  "renderer": {
                    "symbol": {
                      "style": "esriSMSCircle",
                      "angle": 0,
                      "outline": {
                        "color": [
                          0,
                          0,
                          0,
                          255
                        ],
                        "width": 0.75,
                        "style": "esriSLSSolid",
                        "type": "esriSLS"
                      },
                      "color": [
                        255,
                        0,
                        0,
                        255
                      ],
                      "yoffset": 0,
                      "type": "esriSMS",
                      "xoffset": 0,
                      "size": 11.25
                    },
                    "type": "simple"
                  }
                },
                "_hashFromPython": "8739239679692"
              }
            ],
            "_auth_mode": "anonymous",
            "_portal_url": "https://www.arcgis.com",
            "hide_mode_switch": false,
            "_draw_these_graphics_on_widget_load": [
              {
                "geometry": {
                  "y": -21.133187345999943,
                  "x": 55.53244445100006,
                  "type": "point"
                },
                "popupTemplate": {
                  "content": "Debris found",
                  "title": "Reunion Island"
                },
                "symbol": null,
                "attributes": null
              },
              {
                "geometry": {
                  "y": -7.2678999999999405,
                  "x": 72.36917000000005,
                  "type": "point"
                },
                "popupTemplate": {
                  "content": "Naval Support Facility Diego Garcia",
                  "title": "Diego Garcia"
                },
                "symbol": null,
                "attributes": null
              },
              {
                "geometry": {
                  "y": -43.5,
                  "x": 90.5,
                  "type": "point",
                  "spatialReference": {
                    "wkid": 4326
                  }
                },
                "popupTemplate": {
                  "content": "Predicted crash location",
                  "title": "Search Location"
                },
                "symbol": null,
                "attributes": null
              },
              {
                "geometry": {
                  "y": -21.133187345999943,
                  "x": 55.53244445100006,
                  "type": "point",
                  "spatialReference": {
                    "wkid": 4326
                  }
                },
                "popupTemplate": {
                  "content": "Debris found",
                  "title": "Reunion Island"
                },
                "symbol": null,
                "attributes": null
              },
              {
                "geometry": {
                  "y": -7.2678999999999405,
                  "x": 72.36917000000005,
                  "type": "point",
                  "spatialReference": {
                    "wkid": 4326
                  }
                },
                "popupTemplate": {
                  "content": "Naval Support Facility Diego Garcia",
                  "title": "Diego Garcia"
                },
                "symbol": null,
                "attributes": null
              },
              {
                "geometry": {
                  "y": -43.5,
                  "x": 90.5,
                  "type": "point",
                  "spatialReference": {
                    "wkid": 4326
                  }
                },
                "popupTemplate": {
                  "content": "Predicted crash location",
                  "title": "Search Location"
                },
                "symbol": null,
                "attributes": null
              }
            ],
            "_trigger_screenshot_with_args": {},
            "_trigger_interactive_draw_mode_for": "",
            "_custom_msg": "",
            "_rotation": 0,
            "_cell_output_screenshot_callback_resp": "",
            "_readonly_tilt": 0,
            "mode": "2D",
            "_readonly_rotation": 0,
            "_file_output_screenshot_callback_resp": "",
            "_layers_to_remove": [],
            "_add_this_notype_layer": {}
          }
        }
      }
    }
  },
  "cells": [
    {
      "cell_type": "code",
      "metadata": {
        "id": "shUvCuXufu0y",
        "outputId": "4ee5d558-2fb9-4d8c-c5a8-3674d968146a",
        "colab": {
          "base_uri": "https://localhost:8080/"
        }
      },
      "source": [
        "!pip install arcgis"
      ],
      "execution_count": 1,
      "outputs": [
        {
          "output_type": "stream",
          "text": [
            "Collecting arcgis\n",
            "\u001b[?25l  Downloading https://files.pythonhosted.org/packages/ff/d4/a50b566132f3f4065ce92f261ecf6a17af22b8a9134edbf6b42fb57fe52f/arcgis-1.8.2.tar.gz (2.0MB)\n",
            "\u001b[K     |████████████████████████████████| 2.0MB 5.8MB/s \n",
            "\u001b[?25hRequirement already satisfied: six in /usr/local/lib/python3.6/dist-packages (from arcgis) (1.15.0)\n",
            "Requirement already satisfied: ipywidgets>=7 in /usr/local/lib/python3.6/dist-packages (from arcgis) (7.5.1)\n",
            "Requirement already satisfied: widgetsnbextension>=3 in /usr/local/lib/python3.6/dist-packages (from arcgis) (3.5.1)\n",
            "Requirement already satisfied: pandas>=1 in /usr/local/lib/python3.6/dist-packages (from arcgis) (1.1.4)\n",
            "Requirement already satisfied: numpy>=1.16.2 in /usr/local/lib/python3.6/dist-packages (from arcgis) (1.18.5)\n",
            "Requirement already satisfied: matplotlib in /usr/local/lib/python3.6/dist-packages (from arcgis) (3.2.2)\n",
            "Collecting keyring>=19\n",
            "  Using cached https://files.pythonhosted.org/packages/e4/ed/7be20815f248b0d6aae406783c2bee392640924623c4e17b50ca90c7f74d/keyring-21.4.0-py3-none-any.whl\n",
            "Collecting lerc\n",
            "  Using cached https://files.pythonhosted.org/packages/f2/20/73c8fa29a4ba8f8cbdb037369e6b61ac9253664a8aa0912b52169192447f/lerc-0.1.0.tar.gz\n",
            "Collecting jupyterlab\n",
            "  Using cached https://files.pythonhosted.org/packages/31/7b/cd66f306c31a84a53c6a3a86e296586e8664f407a6ac5b7cfe6a433aa8c4/jupyterlab-2.2.9-py3-none-any.whl\n",
            "Collecting pyshp>=2\n",
            "  Using cached https://files.pythonhosted.org/packages/ca/1f/e9cc2c3fce32e2926581f8b6905831165235464c858ba550b6e9b8ef78c3/pyshp-2.1.2.tar.gz\n",
            "Requirement already satisfied: requests in /usr/local/lib/python3.6/dist-packages (from arcgis) (2.23.0)\n",
            "Requirement already satisfied: requests-oauthlib in /usr/local/lib/python3.6/dist-packages (from arcgis) (1.3.0)\n",
            "Collecting requests_toolbelt\n",
            "  Using cached https://files.pythonhosted.org/packages/60/ef/7681134338fc097acef8d9b2f8abe0458e4d87559c689a8c306d0957ece5/requests_toolbelt-0.9.1-py2.py3-none-any.whl\n",
            "Collecting requests_ntlm\n",
            "  Using cached https://files.pythonhosted.org/packages/03/4b/8b9a1afde8072c4d5710d9fa91433d504325821b038e00237dc8d6d833dc/requests_ntlm-1.1.0-py2.py3-none-any.whl\n",
            "Requirement already satisfied: ipykernel>=4.5.1 in /usr/local/lib/python3.6/dist-packages (from ipywidgets>=7->arcgis) (4.10.1)\n",
            "Requirement already satisfied: nbformat>=4.2.0 in /usr/local/lib/python3.6/dist-packages (from ipywidgets>=7->arcgis) (5.0.8)\n",
            "Requirement already satisfied: traitlets>=4.3.1 in /usr/local/lib/python3.6/dist-packages (from ipywidgets>=7->arcgis) (4.3.3)\n",
            "Requirement already satisfied: ipython>=4.0.0; python_version >= \"3.3\" in /usr/local/lib/python3.6/dist-packages (from ipywidgets>=7->arcgis) (5.5.0)\n",
            "Requirement already satisfied: notebook>=4.4.1 in /usr/local/lib/python3.6/dist-packages (from widgetsnbextension>=3->arcgis) (5.3.1)\n",
            "Requirement already satisfied: pytz>=2017.2 in /usr/local/lib/python3.6/dist-packages (from pandas>=1->arcgis) (2018.9)\n",
            "Requirement already satisfied: python-dateutil>=2.7.3 in /usr/local/lib/python3.6/dist-packages (from pandas>=1->arcgis) (2.8.1)\n",
            "Requirement already satisfied: cycler>=0.10 in /usr/local/lib/python3.6/dist-packages (from matplotlib->arcgis) (0.10.0)\n",
            "Requirement already satisfied: kiwisolver>=1.0.1 in /usr/local/lib/python3.6/dist-packages (from matplotlib->arcgis) (1.3.1)\n",
            "Requirement already satisfied: pyparsing!=2.0.4,!=2.1.2,!=2.1.6,>=2.0.1 in /usr/local/lib/python3.6/dist-packages (from matplotlib->arcgis) (2.4.7)\n",
            "Collecting SecretStorage>=3; sys_platform == \"linux\"\n",
            "  Using cached https://files.pythonhosted.org/packages/c3/50/8a02cad020e949e6d7105f5f4530d41e3febcaa5b73f8f2148aacb3aeba5/SecretStorage-3.1.2-py3-none-any.whl\n",
            "Requirement already satisfied: importlib-metadata; python_version < \"3.8\" in /usr/local/lib/python3.6/dist-packages (from keyring>=19->arcgis) (2.0.0)\n",
            "Collecting jeepney>=0.4.2; sys_platform == \"linux\"\n",
            "  Using cached https://files.pythonhosted.org/packages/79/31/2e8d42727595faf224c6dbb748c32b192e212f25495fe841fb7ce8e168b8/jeepney-0.4.3-py3-none-any.whl\n",
            "Requirement already satisfied: tornado!=6.0.0,!=6.0.1,!=6.0.2 in /usr/local/lib/python3.6/dist-packages (from jupyterlab->arcgis) (5.1.1)\n",
            "Collecting jupyterlab-server<2.0,>=1.1.5\n",
            "  Using cached https://files.pythonhosted.org/packages/b4/eb/560043dcd8376328f8b98869efed66ef68307278406ab99c7f63a34d4ae2/jupyterlab_server-1.2.0-py3-none-any.whl\n",
            "Requirement already satisfied: jinja2>=2.10 in /usr/local/lib/python3.6/dist-packages (from jupyterlab->arcgis) (2.11.2)\n",
            "Requirement already satisfied: chardet<4,>=3.0.2 in /usr/local/lib/python3.6/dist-packages (from requests->arcgis) (3.0.4)\n",
            "Requirement already satisfied: urllib3!=1.25.0,!=1.25.1,<1.26,>=1.21.1 in /usr/local/lib/python3.6/dist-packages (from requests->arcgis) (1.24.3)\n",
            "Requirement already satisfied: idna<3,>=2.5 in /usr/local/lib/python3.6/dist-packages (from requests->arcgis) (2.10)\n",
            "Requirement already satisfied: certifi>=2017.4.17 in /usr/local/lib/python3.6/dist-packages (from requests->arcgis) (2020.6.20)\n",
            "Requirement already satisfied: oauthlib>=3.0.0 in /usr/local/lib/python3.6/dist-packages (from requests-oauthlib->arcgis) (3.1.0)\n",
            "Collecting ntlm-auth>=1.0.2\n",
            "  Using cached https://files.pythonhosted.org/packages/ff/84/97c550164b54942b0e908c31ef09d9469f3ba4cd7332a671e2125732f63b/ntlm_auth-1.5.0-py2.py3-none-any.whl\n",
            "Collecting cryptography>=1.3\n",
            "  Using cached https://files.pythonhosted.org/packages/4c/a2/6565c5271a79e3c96d7a079053b4d8408a740d4bf365f0f5f244a807bd09/cryptography-3.2.1-cp35-abi3-manylinux2010_x86_64.whl\n",
            "Requirement already satisfied: jupyter-client in /usr/local/lib/python3.6/dist-packages (from ipykernel>=4.5.1->ipywidgets>=7->arcgis) (5.3.5)\n",
            "Requirement already satisfied: jsonschema!=2.5.0,>=2.4 in /usr/local/lib/python3.6/dist-packages (from nbformat>=4.2.0->ipywidgets>=7->arcgis) (2.6.0)\n",
            "Requirement already satisfied: jupyter-core in /usr/local/lib/python3.6/dist-packages (from nbformat>=4.2.0->ipywidgets>=7->arcgis) (4.6.3)\n",
            "Requirement already satisfied: ipython-genutils in /usr/local/lib/python3.6/dist-packages (from nbformat>=4.2.0->ipywidgets>=7->arcgis) (0.2.0)\n",
            "Requirement already satisfied: decorator in /usr/local/lib/python3.6/dist-packages (from traitlets>=4.3.1->ipywidgets>=7->arcgis) (4.4.2)\n",
            "Requirement already satisfied: pexpect; sys_platform != \"win32\" in /usr/local/lib/python3.6/dist-packages (from ipython>=4.0.0; python_version >= \"3.3\"->ipywidgets>=7->arcgis) (4.8.0)\n",
            "Requirement already satisfied: prompt-toolkit<2.0.0,>=1.0.4 in /usr/local/lib/python3.6/dist-packages (from ipython>=4.0.0; python_version >= \"3.3\"->ipywidgets>=7->arcgis) (1.0.18)\n",
            "Requirement already satisfied: pygments in /usr/local/lib/python3.6/dist-packages (from ipython>=4.0.0; python_version >= \"3.3\"->ipywidgets>=7->arcgis) (2.6.1)\n",
            "Requirement already satisfied: pickleshare in /usr/local/lib/python3.6/dist-packages (from ipython>=4.0.0; python_version >= \"3.3\"->ipywidgets>=7->arcgis) (0.7.5)\n",
            "Requirement already satisfied: simplegeneric>0.8 in /usr/local/lib/python3.6/dist-packages (from ipython>=4.0.0; python_version >= \"3.3\"->ipywidgets>=7->arcgis) (0.8.1)\n",
            "Requirement already satisfied: setuptools>=18.5 in /usr/local/lib/python3.6/dist-packages (from ipython>=4.0.0; python_version >= \"3.3\"->ipywidgets>=7->arcgis) (50.3.2)\n",
            "Requirement already satisfied: nbconvert in /usr/local/lib/python3.6/dist-packages (from notebook>=4.4.1->widgetsnbextension>=3->arcgis) (5.6.1)\n",
            "Requirement already satisfied: terminado>=0.8.1 in /usr/local/lib/python3.6/dist-packages (from notebook>=4.4.1->widgetsnbextension>=3->arcgis) (0.9.1)\n",
            "Requirement already satisfied: Send2Trash in /usr/local/lib/python3.6/dist-packages (from notebook>=4.4.1->widgetsnbextension>=3->arcgis) (1.5.0)\n",
            "Requirement already satisfied: zipp>=0.5 in /usr/local/lib/python3.6/dist-packages (from importlib-metadata; python_version < \"3.8\"->keyring>=19->arcgis) (3.4.0)\n",
            "Collecting json5\n",
            "  Using cached https://files.pythonhosted.org/packages/2b/81/22bf51a5bc60dde18bb6164fd597f18ee683de8670e141364d9c432dd3cf/json5-0.9.5-py2.py3-none-any.whl\n",
            "Requirement already satisfied: MarkupSafe>=0.23 in /usr/local/lib/python3.6/dist-packages (from jinja2>=2.10->jupyterlab->arcgis) (1.1.1)\n",
            "Requirement already satisfied: cffi!=1.11.3,>=1.8 in /usr/local/lib/python3.6/dist-packages (from cryptography>=1.3->requests_ntlm->arcgis) (1.14.3)\n",
            "Requirement already satisfied: pyzmq>=13 in /usr/local/lib/python3.6/dist-packages (from jupyter-client->ipykernel>=4.5.1->ipywidgets>=7->arcgis) (19.0.2)\n",
            "Requirement already satisfied: ptyprocess>=0.5 in /usr/local/lib/python3.6/dist-packages (from pexpect; sys_platform != \"win32\"->ipython>=4.0.0; python_version >= \"3.3\"->ipywidgets>=7->arcgis) (0.6.0)\n",
            "Requirement already satisfied: wcwidth in /usr/local/lib/python3.6/dist-packages (from prompt-toolkit<2.0.0,>=1.0.4->ipython>=4.0.0; python_version >= \"3.3\"->ipywidgets>=7->arcgis) (0.2.5)\n",
            "Requirement already satisfied: testpath in /usr/local/lib/python3.6/dist-packages (from nbconvert->notebook>=4.4.1->widgetsnbextension>=3->arcgis) (0.4.4)\n",
            "Requirement already satisfied: mistune<2,>=0.8.1 in /usr/local/lib/python3.6/dist-packages (from nbconvert->notebook>=4.4.1->widgetsnbextension>=3->arcgis) (0.8.4)\n",
            "Requirement already satisfied: bleach in /usr/local/lib/python3.6/dist-packages (from nbconvert->notebook>=4.4.1->widgetsnbextension>=3->arcgis) (3.2.1)\n",
            "Requirement already satisfied: pandocfilters>=1.4.1 in /usr/local/lib/python3.6/dist-packages (from nbconvert->notebook>=4.4.1->widgetsnbextension>=3->arcgis) (1.4.3)\n",
            "Requirement already satisfied: defusedxml in /usr/local/lib/python3.6/dist-packages (from nbconvert->notebook>=4.4.1->widgetsnbextension>=3->arcgis) (0.6.0)\n",
            "Requirement already satisfied: entrypoints>=0.2.2 in /usr/local/lib/python3.6/dist-packages (from nbconvert->notebook>=4.4.1->widgetsnbextension>=3->arcgis) (0.3)\n",
            "Requirement already satisfied: pycparser in /usr/local/lib/python3.6/dist-packages (from cffi!=1.11.3,>=1.8->cryptography>=1.3->requests_ntlm->arcgis) (2.20)\n",
            "Requirement already satisfied: webencodings in /usr/local/lib/python3.6/dist-packages (from bleach->nbconvert->notebook>=4.4.1->widgetsnbextension>=3->arcgis) (0.5.1)\n",
            "Requirement already satisfied: packaging in /usr/local/lib/python3.6/dist-packages (from bleach->nbconvert->notebook>=4.4.1->widgetsnbextension>=3->arcgis) (20.4)\n",
            "Building wheels for collected packages: arcgis, lerc, pyshp\n",
            "  Building wheel for arcgis (setup.py) ... \u001b[?25l\u001b[?25hdone\n",
            "  Created wheel for arcgis: filename=arcgis-1.8.2-py2.py3-none-any.whl size=2622661 sha256=ad66a0b27ed8de685388bc19619956bbdd3bee0fb5c64e56fda44f2581da1378\n",
            "  Stored in directory: /root/.cache/pip/wheels/6b/7e/c6/525051b3bfef47058a9d5ecf450b35fa565aff22fb145008ae\n",
            "  Building wheel for lerc (setup.py) ... \u001b[?25l\u001b[?25hdone\n",
            "  Created wheel for lerc: filename=lerc-0.1.0-cp36-none-any.whl size=571700 sha256=6edc77938b57d286d92b0c8512893c034617af04afd700fee8cbff654577143b\n",
            "  Stored in directory: /root/.cache/pip/wheels/91/25/fc/0975ce9d050d66a246aa3cd51b04af4ef94a8ad96ccda87f86\n",
            "  Building wheel for pyshp (setup.py) ... \u001b[?25l\u001b[?25hdone\n",
            "  Created wheel for pyshp: filename=pyshp-2.1.2-cp36-none-any.whl size=36216 sha256=87555499389b90d19ac91667db240f37ef6427a32846105e2d9654058971e5f2\n",
            "  Stored in directory: /root/.cache/pip/wheels/96/6c/53/4112475adf3b831da97f083163d0f38ee6daac9c1b13f7afea\n",
            "Successfully built arcgis lerc pyshp\n",
            "\u001b[31mERROR: jupyterlab-server 1.2.0 has requirement jsonschema>=3.0.1, but you'll have jsonschema 2.6.0 which is incompatible.\u001b[0m\n",
            "Installing collected packages: jeepney, cryptography, SecretStorage, keyring, lerc, json5, jupyterlab-server, jupyterlab, pyshp, requests-toolbelt, ntlm-auth, requests-ntlm, arcgis\n",
            "Successfully installed SecretStorage-3.1.2 arcgis-1.8.2 cryptography-3.2.1 jeepney-0.4.3 json5-0.9.5 jupyterlab-2.2.9 jupyterlab-server-1.2.0 keyring-21.4.0 lerc-0.1.0 ntlm-auth-1.5.0 pyshp-2.1.2 requests-ntlm-1.1.0 requests-toolbelt-0.9.1\n"
          ],
          "name": "stdout"
        }
      ]
    },
    {
      "cell_type": "code",
      "metadata": {
        "id": "dfb-dwp1gG_I",
        "outputId": "537dd157-6c98-4aff-c9af-bceff0a87b90",
        "colab": {
          "base_uri": "https://localhost:8080/",
          "height": 34,
          "referenced_widgets": [
            "6aaa7b2ab8084ddabeea0be7552601e0"
          ]
        }
      },
      "source": [
        "from arcgis.gis import GIS\n",
        "from arcgis.geocoding import geocode\n",
        "from IPython.display import display\n",
        "\n",
        "gis = GIS()\n",
        "map1 = gis.map()\n",
        "map1"
      ],
      "execution_count": 2,
      "outputs": [
        {
          "output_type": "display_data",
          "data": {
            "application/vnd.jupyter.widget-view+json": {
              "model_id": "6aaa7b2ab8084ddabeea0be7552601e0",
              "version_minor": 0,
              "version_major": 2
            },
            "text/plain": [
              "MapView(layout=Layout(height='400px', width='100%'))"
            ]
          },
          "metadata": {
            "tags": []
          }
        },
        {
          "output_type": "display_data",
          "data": {
            "text/html": [
              "<div class=\"map-static-img-preview-795d1a4a-efb5-473d-9a7c-1e69419eb9af\"><img src=\"\"></img></div>"
            ],
            "text/plain": [
              "<IPython.core.display.HTML object>"
            ]
          },
          "metadata": {
            "tags": []
          }
        }
      ]
    },
    {
      "cell_type": "code",
      "metadata": {
        "id": "iYSqK1D_gQ64"
      },
      "source": [
        "diegogarcia = geocode(\"Diego Garcia\")[0]\n",
        "map1.extent = diegogarcia['extent']"
      ],
      "execution_count": 3,
      "outputs": []
    },
    {
      "cell_type": "code",
      "metadata": {
        "id": "GE7ClgFvgWqX"
      },
      "source": [
        "lareunion = geocode(\"La Reunion\")[0]"
      ],
      "execution_count": 4,
      "outputs": []
    },
    {
      "cell_type": "code",
      "metadata": {
        "id": "JdMSLFXvgb-s"
      },
      "source": [
        "# Annotate the map by plotting Diego Garcia, and two other search locations\n",
        "map1.draw(lareunion['location'], {\"title\": \"Reunion Island\", \"content\": \"Debris found\"})\n",
        "map1.draw(diegogarcia['location'], {\"title\": \"Diego Garcia\", \"content\": \"Naval Support Facility Diego Garcia\"})\n",
        "map1.draw([-43.5, 90.5], {\"title\":\"Search Location\", \"content\":\"Predicted crash location\"})\n",
        "\n",
        "# Render a feature layer representing the search area\n",
        "# Source: http://www.amsa.gov.au/media/incidents/images/DIGO_00718_01_14.jpg\n",
        "map1.add_layer({\"type\":\"FeatureLayer\", \n",
        "                \"url\" : \"http://services.arcgis.com/WQ9KVmV6xGGMnCiQ/arcgis/rest/services/MH370Search/FeatureServer/1\"})"
      ],
      "execution_count": 6,
      "outputs": []
    },
    {
      "cell_type": "code",
      "metadata": {
        "id": "oDAUxcSnghqd",
        "outputId": "6f7f0485-7f0f-4218-89de-58bf39187e78",
        "colab": {
          "base_uri": "https://localhost:8080/",
          "height": 1000
        }
      },
      "source": [
        "mh370items = gis.content.search(\"owner:bflanagan_bureau tags:mh370\", \"feature service\", max_items=7)\n",
        "for item in mh370items:\n",
        "    display(item)"
      ],
      "execution_count": 7,
      "outputs": [
        {
          "output_type": "display_data",
          "data": {
            "text/html": [
              "<div class=\"item_container\" style=\"height: auto; overflow: hidden; border: 1px solid #cfcfcf; border-radius: 2px; background: #f6fafa; line-height: 1.21429em; padding: 10px;\">\n",
              "                    <div class=\"item_left\" style=\"width: 210px; float: left;\">\n",
              "                       <a href='https://www.arcgis.com/home/item.html?id=cad4c67f0139406fb9c8d3ee8581fd1d' target='_blank'>\n",
              "                        <img src='https://www.arcgis.com/sharing/rest//content/items/cad4c67f0139406fb9c8d3ee8581fd1d/info/thumbnail/thumbnail.png' class=\"itemThumbnail\">\n",
              "                       </a>\n",
              "                    </div>\n",
              "\n",
              "                    <div class=\"item_right\"     style=\"float: none; width: auto; overflow: hidden;\">\n",
              "                        <a href='https://www.arcgis.com/home/item.html?id=cad4c67f0139406fb9c8d3ee8581fd1d' target='_blank'><b>Arc</b>\n",
              "                        </a>\n",
              "                        <br/>Lastknownlocationarc<img src='https://www.arcgis.com/home/js/jsapi/esri/css/images/item_type_icons/featureshosted16.png' style=\"vertical-align:middle;\">Feature Layer Collection by bflanagan_bureau\n",
              "                        <br/>Last Modified: March 02, 2015\n",
              "                        <br/>0 comments, 18,839 views\n",
              "                    </div>\n",
              "                </div>\n",
              "                "
            ],
            "text/plain": [
              "<Item title:\"Arc\" type:Feature Layer Collection owner:bflanagan_bureau>"
            ]
          },
          "metadata": {
            "tags": []
          }
        },
        {
          "output_type": "display_data",
          "data": {
            "text/html": [
              "<div class=\"item_container\" style=\"height: auto; overflow: hidden; border: 1px solid #cfcfcf; border-radius: 2px; background: #f6fafa; line-height: 1.21429em; padding: 10px;\">\n",
              "                    <div class=\"item_left\" style=\"width: 210px; float: left;\">\n",
              "                       <a href='https://www.arcgis.com/home/item.html?id=aab7322704084ae1abe1a3d591a8bf72' target='_blank'>\n",
              "                        <img src='https://www.arcgis.com/sharing/rest//content/items/aab7322704084ae1abe1a3d591a8bf72/info/thumbnail/thumbnail.png' class=\"itemThumbnail\">\n",
              "                       </a>\n",
              "                    </div>\n",
              "\n",
              "                    <div class=\"item_right\"     style=\"float: none; width: auto; overflow: hidden;\">\n",
              "                        <a href='https://www.arcgis.com/home/item.html?id=aab7322704084ae1abe1a3d591a8bf72' target='_blank'><b>MH370Search</b>\n",
              "                        </a>\n",
              "                        <br/>MH370Search<img src='https://www.arcgis.com/home/js/jsapi/esri/css/images/item_type_icons/featureshosted16.png' style=\"vertical-align:middle;\">Feature Layer Collection by bflanagan_bureau\n",
              "                        <br/>Last Modified: March 02, 2015\n",
              "                        <br/>0 comments, 11,078 views\n",
              "                    </div>\n",
              "                </div>\n",
              "                "
            ],
            "text/plain": [
              "<Item title:\"MH370Search\" type:Feature Layer Collection owner:bflanagan_bureau>"
            ]
          },
          "metadata": {
            "tags": []
          }
        },
        {
          "output_type": "display_data",
          "data": {
            "text/html": [
              "<div class=\"item_container\" style=\"height: auto; overflow: hidden; border: 1px solid #cfcfcf; border-radius: 2px; background: #f6fafa; line-height: 1.21429em; padding: 10px;\">\n",
              "                    <div class=\"item_left\" style=\"width: 210px; float: left;\">\n",
              "                       <a href='https://www.arcgis.com/home/item.html?id=599726f0009a4dd38c06abf036b663c7' target='_blank'>\n",
              "                        <img src='https://www.arcgis.com/sharing/rest//content/items/599726f0009a4dd38c06abf036b663c7/info/thumbnail/ago_downloaded.png' class=\"itemThumbnail\">\n",
              "                       </a>\n",
              "                    </div>\n",
              "\n",
              "                    <div class=\"item_right\"     style=\"float: none; width: auto; overflow: hidden;\">\n",
              "                        <a href='https://www.arcgis.com/home/item.html?id=599726f0009a4dd38c06abf036b663c7' target='_blank'><b>mh370debris</b>\n",
              "                        </a>\n",
              "                        <br/>mh370 imagery debris<img src='https://www.arcgis.com/home/js/jsapi/esri/css/images/item_type_icons/featureshosted16.png' style=\"vertical-align:middle;\">Feature Layer Collection by bflanagan_bureau\n",
              "                        <br/>Last Modified: March 02, 2015\n",
              "                        <br/>0 comments, 4,370 views\n",
              "                    </div>\n",
              "                </div>\n",
              "                "
            ],
            "text/plain": [
              "<Item title:\"mh370debris\" type:Feature Layer Collection owner:bflanagan_bureau>"
            ]
          },
          "metadata": {
            "tags": []
          }
        },
        {
          "output_type": "display_data",
          "data": {
            "text/html": [
              "<div class=\"item_container\" style=\"height: auto; overflow: hidden; border: 1px solid #cfcfcf; border-radius: 2px; background: #f6fafa; line-height: 1.21429em; padding: 10px;\">\n",
              "                    <div class=\"item_left\" style=\"width: 210px; float: left;\">\n",
              "                       <a href='https://www.arcgis.com/home/item.html?id=801585227b494e1ab470e5cf10b3ec53' target='_blank'>\n",
              "                        <img src='https://www.arcgis.com/sharing/rest//content/items/801585227b494e1ab470e5cf10b3ec53/info/thumbnail/ago_downloaded.png' class=\"itemThumbnail\">\n",
              "                       </a>\n",
              "                    </div>\n",
              "\n",
              "                    <div class=\"item_right\"     style=\"float: none; width: auto; overflow: hidden;\">\n",
              "                        <a href='https://www.arcgis.com/home/item.html?id=801585227b494e1ab470e5cf10b3ec53' target='_blank'><b>UnderwaterSearch</b>\n",
              "                        </a>\n",
              "                        <br/><img src='https://www.arcgis.com/home/js/jsapi/esri/css/images/item_type_icons/featureshosted16.png' style=\"vertical-align:middle;\">Feature Layer Collection by bflanagan_bureau\n",
              "                        <br/>Last Modified: March 02, 2015\n",
              "                        <br/>0 comments, 3,839 views\n",
              "                    </div>\n",
              "                </div>\n",
              "                "
            ],
            "text/plain": [
              "<Item title:\"UnderwaterSearch\" type:Feature Layer Collection owner:bflanagan_bureau>"
            ]
          },
          "metadata": {
            "tags": []
          }
        },
        {
          "output_type": "display_data",
          "data": {
            "text/html": [
              "<div class=\"item_container\" style=\"height: auto; overflow: hidden; border: 1px solid #cfcfcf; border-radius: 2px; background: #f6fafa; line-height: 1.21429em; padding: 10px;\">\n",
              "                    <div class=\"item_left\" style=\"width: 210px; float: left;\">\n",
              "                       <a href='https://www.arcgis.com/home/item.html?id=7615f1a27fd2410d9452762f94582ff7' target='_blank'>\n",
              "                        <img src='https://www.arcgis.com/sharing/rest//content/items/7615f1a27fd2410d9452762f94582ff7/info/thumbnail/thumbnail.png' class=\"itemThumbnail\">\n",
              "                       </a>\n",
              "                    </div>\n",
              "\n",
              "                    <div class=\"item_right\"     style=\"float: none; width: auto; overflow: hidden;\">\n",
              "                        <a href='https://www.arcgis.com/home/item.html?id=7615f1a27fd2410d9452762f94582ff7' target='_blank'><b>SatelliteLocation</b>\n",
              "                        </a>\n",
              "                        <br/>SatelliteLocation<img src='https://www.arcgis.com/home/js/jsapi/esri/css/images/item_type_icons/featureshosted16.png' style=\"vertical-align:middle;\">Feature Layer Collection by bflanagan_bureau\n",
              "                        <br/>Last Modified: February 26, 2015\n",
              "                        <br/>0 comments, 6,109 views\n",
              "                    </div>\n",
              "                </div>\n",
              "                "
            ],
            "text/plain": [
              "<Item title:\"SatelliteLocation\" type:Feature Layer Collection owner:bflanagan_bureau>"
            ]
          },
          "metadata": {
            "tags": []
          }
        },
        {
          "output_type": "display_data",
          "data": {
            "text/html": [
              "<div class=\"item_container\" style=\"height: auto; overflow: hidden; border: 1px solid #cfcfcf; border-radius: 2px; background: #f6fafa; line-height: 1.21429em; padding: 10px;\">\n",
              "                    <div class=\"item_left\" style=\"width: 210px; float: left;\">\n",
              "                       <a href='https://www.arcgis.com/home/item.html?id=6867dcf7b4214fcfa78e846f4b666a53' target='_blank'>\n",
              "                        <img src='https://www.arcgis.com/sharing/rest//content/items/6867dcf7b4214fcfa78e846f4b666a53/info/thumbnail/ago_downloaded.png' class=\"itemThumbnail\">\n",
              "                       </a>\n",
              "                    </div>\n",
              "\n",
              "                    <div class=\"item_right\"     style=\"float: none; width: auto; overflow: hidden;\">\n",
              "                        <a href='https://www.arcgis.com/home/item.html?id=6867dcf7b4214fcfa78e846f4b666a53' target='_blank'><b>ActualFlightRoute</b>\n",
              "                        </a>\n",
              "                        <br/><img src='https://www.arcgis.com/home/js/jsapi/esri/css/images/item_type_icons/featureshosted16.png' style=\"vertical-align:middle;\">Feature Layer Collection by bflanagan_bureau\n",
              "                        <br/>Last Modified: February 26, 2015\n",
              "                        <br/>0 comments, 6,106 views\n",
              "                    </div>\n",
              "                </div>\n",
              "                "
            ],
            "text/plain": [
              "<Item title:\"ActualFlightRoute\" type:Feature Layer Collection owner:bflanagan_bureau>"
            ]
          },
          "metadata": {
            "tags": []
          }
        },
        {
          "output_type": "display_data",
          "data": {
            "text/html": [
              "<div class=\"item_container\" style=\"height: auto; overflow: hidden; border: 1px solid #cfcfcf; border-radius: 2px; background: #f6fafa; line-height: 1.21429em; padding: 10px;\">\n",
              "                    <div class=\"item_left\" style=\"width: 210px; float: left;\">\n",
              "                       <a href='https://www.arcgis.com/home/item.html?id=86a1b6e71af74979ba38095543d48f07' target='_blank'>\n",
              "                        <img src='https://www.arcgis.com/sharing/rest//content/items/86a1b6e71af74979ba38095543d48f07/info/thumbnail/thumbnail.png' class=\"itemThumbnail\">\n",
              "                       </a>\n",
              "                    </div>\n",
              "\n",
              "                    <div class=\"item_right\"     style=\"float: none; width: auto; overflow: hidden;\">\n",
              "                        <a href='https://www.arcgis.com/home/item.html?id=86a1b6e71af74979ba38095543d48f07' target='_blank'><b>MH370_Flight_Path</b>\n",
              "                        </a>\n",
              "                        <br/>MH370 Flight Path<img src='https://www.arcgis.com/home/js/jsapi/esri/css/images/item_type_icons/featureshosted16.png' style=\"vertical-align:middle;\">Feature Layer Collection by bflanagan_bureau\n",
              "                        <br/>Last Modified: February 25, 2015\n",
              "                        <br/>0 comments, 31,979 views\n",
              "                    </div>\n",
              "                </div>\n",
              "                "
            ],
            "text/plain": [
              "<Item title:\"MH370_Flight_Path\" type:Feature Layer Collection owner:bflanagan_bureau>"
            ]
          },
          "metadata": {
            "tags": []
          }
        }
      ]
    },
    {
      "cell_type": "code",
      "metadata": {
        "id": "SQnaz_yTgrf7"
      },
      "source": [
        "# The order of items might change, change the item number according to the order of your notebook\n",
        "map1.add_layer(mh370items[6]) # MH370 Flight Path\n",
        "map1.add_layer(mh370items[4]) # SatelliteLocation\n",
        "map1.add_layer(mh370items[1]) # mh370debris"
      ],
      "execution_count": 8,
      "outputs": []
    },
    {
      "cell_type": "code",
      "metadata": {
        "id": "XEd5lH8kguXx"
      },
      "source": [
        "map1.zoom = 6"
      ],
      "execution_count": 9,
      "outputs": []
    },
    {
      "cell_type": "code",
      "metadata": {
        "id": "_dLWTrJRgyYT",
        "outputId": "53ad1dd4-b131-4bfd-872d-04cb9c8e0080",
        "colab": {
          "base_uri": "https://localhost:8080/",
          "height": 176
        }
      },
      "source": [
        "toolbox_item = gis.content.search(\"title: Ocean Currents owner:esri_apac\", item_type=\"geoprocessing toolbox\", max_items=1)[0]\n",
        "toolbox_item"
      ],
      "execution_count": 10,
      "outputs": [
        {
          "output_type": "execute_result",
          "data": {
            "text/html": [
              "<div class=\"item_container\" style=\"height: auto; overflow: hidden; border: 1px solid #cfcfcf; border-radius: 2px; background: #f6fafa; line-height: 1.21429em; padding: 10px;\">\n",
              "                    <div class=\"item_left\" style=\"width: 210px; float: left;\">\n",
              "                       <a href='https://www.arcgis.com/home/item.html?id=383c2039b89d43baa0010c3bf243b144' target='_blank'>\n",
              "                        <img src='https://www.arcgis.com/sharing/rest//content/items/383c2039b89d43baa0010c3bf243b144/info/thumbnail/Ocean_Currents.png' class=\"itemThumbnail\">\n",
              "                       </a>\n",
              "                    </div>\n",
              "\n",
              "                    <div class=\"item_right\"     style=\"float: none; width: auto; overflow: hidden;\">\n",
              "                        <a href='https://www.arcgis.com/home/item.html?id=383c2039b89d43baa0010c3bf243b144' target='_blank'><b>Ocean Currents</b>\n",
              "                        </a>\n",
              "                        <br/>Calculates the path of an unpowered vessel drifiting in ocean currents from a user defined point. Excludes wind or atmospheric conditions.<img src='https://www.arcgis.com/home/js/jsapi/esri/css/images/item_type_icons/layers16.png' style=\"vertical-align:middle;\">Geoprocessing Toolbox by esri_apac\n",
              "                        <br/>Last Modified: August 25, 2014\n",
              "                        <br/>1 comments, 176 views\n",
              "                    </div>\n",
              "                </div>\n",
              "                "
            ],
            "text/plain": [
              "<Item title:\"Ocean Currents\" type:Geoprocessing Toolbox owner:esri_apac>"
            ]
          },
          "metadata": {
            "tags": []
          },
          "execution_count": 10
        }
      ]
    },
    {
      "cell_type": "code",
      "metadata": {
        "id": "3-OOJrzUg42b"
      },
      "source": [
        "from arcgis.geoprocessing import import_toolbox\n",
        "ocean_currents = import_toolbox(toolbox_item)"
      ],
      "execution_count": 11,
      "outputs": []
    },
    {
      "cell_type": "code",
      "metadata": {
        "id": "iPDrkOnthAQF",
        "outputId": "dd90d6d1-352f-4020-90a8-8d155175f1f2",
        "colab": {
          "base_uri": "https://localhost:8080/"
        }
      },
      "source": [
        "help(ocean_currents.message_in_a_bottle)"
      ],
      "execution_count": 12,
      "outputs": [
        {
          "output_type": "stream",
          "text": [
            "Help on function message_in_a_bottle:\n",
            "\n",
            "message_in_a_bottle(input_point:arcgis.features.feature.FeatureSet={'geometryType': 'esriGeometryPoint', 'spatialReference': {'wkid': 4326}, 'Fields': [{'name': 'FID', 'type': 'esriFieldTypeOID', 'alias': 'FID'}, {'name': 'Shape', 'type': 'esriFieldTypeGeometry', 'alias': 'Shape'}, {'name': 'Id', 'type': 'esriFieldTypeInteger', 'alias': 'Id'}], 'fields': [{'name': 'FID', 'type': 'esriFieldTypeOID', 'alias': 'FID'}, {'name': 'Shape', 'type': 'esriFieldTypeGeometry', 'alias': 'Shape'}, {'name': 'Id', 'type': 'esriFieldTypeInteger', 'alias': 'Id'}]}, days:float=150, gis=None, future=False) -> arcgis.features.feature.FeatureSet\n",
            "            \n",
            "    \n",
            "    \n",
            "    Parameters:\n",
            "    \n",
            "       input_point: Input Point (FeatureSet). Required parameter. \n",
            "    \n",
            "       days: Days (float). Required parameter. \n",
            "    \n",
            "            gis: Optional, the GIS on which this tool runs. If not specified, the active GIS is used.\n",
            "    \n",
            "    \n",
            "            future: Optional, If True, a future object will be returns and the process will not wait for the task to complete. The default is False, which means wait for results.\n",
            "    \n",
            "    \n",
            "    Returns: \n",
            "       output - Output as a FeatureSet\n",
            "    \n",
            "    See http://sampleserver1b.arcgisonline.com/arcgisoutput/Specialty_ESRI_Currents_World/MessageInABottle.htm for additional help.\n",
            "\n"
          ],
          "name": "stdout"
        }
      ]
    },
    {
      "cell_type": "code",
      "metadata": {
        "id": "KNFMuTG3hEDm"
      },
      "source": [
        "from arcgis.features import FeatureSet, Feature\n",
        "\n",
        "def do_analysis(m, g):\n",
        "    print(\"Computing the path that debris would take...\")\n",
        "    \n",
        "    # Parameter `g` contains the co-ordinates of the clicked location\n",
        "    \n",
        "    # Construct a FeatureSet object from the clicked locaiton\n",
        "    my_feature_set = FeatureSet([Feature(g)])\n",
        "    \n",
        "    # Pass the input location as a FeatureSet\n",
        "    ret = ocean_currents.message_in_a_bottle(my_feature_set, 150)\n",
        "    \n",
        "    # Render the resulting FeatureSet on the map using `draw()` method\n",
        "    map1.draw(ret)\n",
        "    \n",
        "# Set the callback function that performs analysis. The `do_analysis` function is called whenever user clicks on the map.\n",
        "map1.on_click(do_analysis)"
      ],
      "execution_count": 14,
      "outputs": []
    }
  ]
}